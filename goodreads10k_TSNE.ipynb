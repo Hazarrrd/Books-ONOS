{
 "cells": [
  {
   "cell_type": "code",
   "execution_count": 14,
   "metadata": {},
   "outputs": [
    {
     "name": "stdout",
     "output_type": "stream",
     "text": [
      "The autoreload extension is already loaded. To reload it, use:\n",
      "  %reload_ext autoreload\n"
     ]
    }
   ],
   "source": [
    "%load_ext autoreload\n",
    "%autoreload 2"
   ]
  },
  {
   "cell_type": "code",
   "execution_count": 2,
   "metadata": {},
   "outputs": [],
   "source": [
    "from os import path\n",
    "import zipfile\n",
    "import pandas as pd"
   ]
  },
  {
   "cell_type": "code",
   "execution_count": 3,
   "metadata": {},
   "outputs": [],
   "source": [
    "if not path.exists('./goodreads10k/ratings.csv'):\n",
    "    with zipfile.ZipFile(\"./goodreads10k/goodreads10k.zip\",\"r\") as zip_ref:\n",
    "        zip_ref.extractall(\"./goodreads10k\")"
   ]
  },
  {
   "cell_type": "markdown",
   "metadata": {},
   "source": [
    "### Load data"
   ]
  },
  {
   "cell_type": "code",
   "execution_count": 5,
   "metadata": {},
   "outputs": [],
   "source": [
    "books = pd.read_csv('./goodreads10k/books.csv')\n",
    "ratings = pd.read_csv('./goodreads10k/ratings.csv')"
   ]
  },
  {
   "cell_type": "code",
   "execution_count": 6,
   "metadata": {},
   "outputs": [
    {
     "data": {
      "text/html": [
       "<div>\n",
       "<style scoped>\n",
       "    .dataframe tbody tr th:only-of-type {\n",
       "        vertical-align: middle;\n",
       "    }\n",
       "\n",
       "    .dataframe tbody tr th {\n",
       "        vertical-align: top;\n",
       "    }\n",
       "\n",
       "    .dataframe thead th {\n",
       "        text-align: right;\n",
       "    }\n",
       "</style>\n",
       "<table border=\"1\" class=\"dataframe\">\n",
       "  <thead>\n",
       "    <tr style=\"text-align: right;\">\n",
       "      <th></th>\n",
       "      <th>user_id</th>\n",
       "      <th>book_id</th>\n",
       "      <th>rating</th>\n",
       "    </tr>\n",
       "  </thead>\n",
       "  <tbody>\n",
       "    <tr>\n",
       "      <th>0</th>\n",
       "      <td>29300</td>\n",
       "      <td>1</td>\n",
       "      <td>4</td>\n",
       "    </tr>\n",
       "    <tr>\n",
       "      <th>1</th>\n",
       "      <td>6590</td>\n",
       "      <td>1</td>\n",
       "      <td>3</td>\n",
       "    </tr>\n",
       "    <tr>\n",
       "      <th>2</th>\n",
       "      <td>7546</td>\n",
       "      <td>1</td>\n",
       "      <td>5</td>\n",
       "    </tr>\n",
       "    <tr>\n",
       "      <th>3</th>\n",
       "      <td>43484</td>\n",
       "      <td>1</td>\n",
       "      <td>1</td>\n",
       "    </tr>\n",
       "    <tr>\n",
       "      <th>4</th>\n",
       "      <td>18689</td>\n",
       "      <td>1</td>\n",
       "      <td>5</td>\n",
       "    </tr>\n",
       "    <tr>\n",
       "      <th>...</th>\n",
       "      <td>...</td>\n",
       "      <td>...</td>\n",
       "      <td>...</td>\n",
       "    </tr>\n",
       "    <tr>\n",
       "      <th>5976474</th>\n",
       "      <td>31293</td>\n",
       "      <td>10000</td>\n",
       "      <td>3</td>\n",
       "    </tr>\n",
       "    <tr>\n",
       "      <th>5976475</th>\n",
       "      <td>12272</td>\n",
       "      <td>10000</td>\n",
       "      <td>4</td>\n",
       "    </tr>\n",
       "    <tr>\n",
       "      <th>5976476</th>\n",
       "      <td>35330</td>\n",
       "      <td>10000</td>\n",
       "      <td>4</td>\n",
       "    </tr>\n",
       "    <tr>\n",
       "      <th>5976477</th>\n",
       "      <td>46337</td>\n",
       "      <td>10000</td>\n",
       "      <td>5</td>\n",
       "    </tr>\n",
       "    <tr>\n",
       "      <th>5976478</th>\n",
       "      <td>42537</td>\n",
       "      <td>10000</td>\n",
       "      <td>4</td>\n",
       "    </tr>\n",
       "  </tbody>\n",
       "</table>\n",
       "<p>5976479 rows × 3 columns</p>\n",
       "</div>"
      ],
      "text/plain": [
       "         user_id  book_id  rating\n",
       "0          29300        1       4\n",
       "1           6590        1       3\n",
       "2           7546        1       5\n",
       "3          43484        1       1\n",
       "4          18689        1       5\n",
       "...          ...      ...     ...\n",
       "5976474    31293    10000       3\n",
       "5976475    12272    10000       4\n",
       "5976476    35330    10000       4\n",
       "5976477    46337    10000       5\n",
       "5976478    42537    10000       4\n",
       "\n",
       "[5976479 rows x 3 columns]"
      ]
     },
     "execution_count": 6,
     "metadata": {},
     "output_type": "execute_result"
    }
   ],
   "source": [
    "ratings = ratings.sort_values(by='book_id').reset_index(drop=True)\n",
    "ratings"
   ]
  },
  {
   "cell_type": "code",
   "execution_count": 7,
   "metadata": {},
   "outputs": [],
   "source": [
    "from goodreads10k.categories import get_categories\n",
    "book_categories = get_categories()"
   ]
  },
  {
   "cell_type": "code",
   "execution_count": 11,
   "metadata": {},
   "outputs": [],
   "source": [
    "from surprise import Reader, Dataset\n",
    "\n",
    "reader = Reader(rating_scale=(1, 5))\n",
    "trainset = Dataset.load_from_df(ratings[['user_id', 'book_id', 'rating']], reader).build_full_trainset()"
   ]
  },
  {
   "cell_type": "markdown",
   "metadata": {},
   "source": [
    "# Matrix Factorization\n",
    "\n",
    "![title](https://miro.medium.com/max/4320/1*b4M7o7W8bfRRxdMxtFoVBQ.png)\n",
    "\n",
    "\n"
   ]
  },
  {
   "cell_type": "code",
   "execution_count": 16,
   "metadata": {},
   "outputs": [
    {
     "name": "stdout",
     "output_type": "stream",
     "text": [
      "[1,    50] loss: 38.947\n",
      "[1,   100] loss: 37.829\n",
      "[1,   150] loss: 36.807\n",
      "[1,   200] loss: 35.811\n",
      "[1,   250] loss: 34.872\n",
      "[1,   300] loss: 33.886\n",
      "[1,   350] loss: 32.939\n",
      "[1,   400] loss: 32.114\n",
      "[1,   450] loss: 31.238\n",
      "[1,   500] loss: 30.407\n",
      "[1,   550] loss: 29.675\n",
      "[2,    50] loss: 28.141\n",
      "[2,   100] loss: 27.452\n",
      "[2,   150] loss: 26.682\n",
      "[2,   200] loss: 26.109\n",
      "[2,   250] loss: 25.390\n",
      "[2,   300] loss: 24.687\n",
      "[2,   350] loss: 24.078\n",
      "[2,   400] loss: 23.482\n",
      "[2,   450] loss: 22.903\n",
      "[2,   500] loss: 22.293\n",
      "[2,   550] loss: 21.762\n",
      "Finished Training\n"
     ]
    },
    {
     "data": {
      "text/plain": [
       "<SVD.NeuralNetworkSR at 0x23e3d186148>"
      ]
     },
     "execution_count": 16,
     "metadata": {},
     "output_type": "execute_result"
    }
   ],
   "source": [
    "from SVD import NeuralNetworkSR\n",
    "\n",
    "nn = NeuralNetworkSR(ratings, num_epochs=2, n_features=30, log_freq=50, batch_size=10000, hiddens=[400, 100], lr=0.001, wd=1e-1)\n",
    "nn.fit(trainset)"
   ]
  },
  {
   "cell_type": "code",
   "execution_count": 18,
   "metadata": {},
   "outputs": [],
   "source": [
    "import numpy as np\n",
    "\n",
    "i_weights = nn.net.i_embeddings.cpu().weight.detach().numpy() \n",
    "i_bias = nn.net.i_biases.cpu().weight.detach().numpy()\n",
    "\n",
    "book_embeddings = np.hstack([i_weights, i_bias])"
   ]
  },
  {
   "cell_type": "markdown",
   "metadata": {},
   "source": [
    "### TSNE dimension reduction\n",
    "\n",
    "Each book embedding is projected onto 2D space."
   ]
  },
  {
   "cell_type": "code",
   "execution_count": 22,
   "metadata": {},
   "outputs": [
    {
     "name": "stdout",
     "output_type": "stream",
     "text": [
      "[t-SNE] Computing 151 nearest neighbors...\n",
      "[t-SNE] Indexed 10000 samples in 0.074s...\n",
      "[t-SNE] Computed neighbors for 10000 samples in 7.272s...\n",
      "[t-SNE] Computed conditional probabilities for sample 1000 / 10000\n",
      "[t-SNE] Computed conditional probabilities for sample 2000 / 10000\n",
      "[t-SNE] Computed conditional probabilities for sample 3000 / 10000\n",
      "[t-SNE] Computed conditional probabilities for sample 4000 / 10000\n",
      "[t-SNE] Computed conditional probabilities for sample 5000 / 10000\n",
      "[t-SNE] Computed conditional probabilities for sample 6000 / 10000\n",
      "[t-SNE] Computed conditional probabilities for sample 7000 / 10000\n",
      "[t-SNE] Computed conditional probabilities for sample 8000 / 10000\n",
      "[t-SNE] Computed conditional probabilities for sample 9000 / 10000\n",
      "[t-SNE] Computed conditional probabilities for sample 10000 / 10000\n",
      "[t-SNE] Mean sigma: 1.305080\n",
      "[t-SNE] KL divergence after 250 iterations with early exaggeration: 88.204346\n",
      "[t-SNE] KL divergence after 1000 iterations: 4.369103\n"
     ]
    }
   ],
   "source": [
    "from sklearn.manifold import TSNE\n",
    "\n",
    "book_embeddings_2D = TSNE(n_components=2, perplexity=50, learning_rate=200, n_iter=1000, verbose=1).fit_transform(book_embeddings)\n",
    "    "
   ]
  },
  {
   "cell_type": "markdown",
   "metadata": {},
   "source": [
    "### Save results"
   ]
  },
  {
   "cell_type": "code",
   "execution_count": 23,
   "metadata": {},
   "outputs": [],
   "source": [
    "books_final_df = books.copy()\n",
    "\n",
    "books_final_df['x_tsne'] = book_embeddings_2D[:, 0]\n",
    "books_final_df['y_tsne'] = book_embeddings_2D[:, 1]\n",
    "\n",
    "books_final_df.to_csv('books_with_embeddings.csv', index=False)"
   ]
  }
 ],
 "metadata": {
  "kernelspec": {
   "display_name": "Python 3",
   "language": "python",
   "name": "python3"
  },
  "language_info": {
   "codemirror_mode": {
    "name": "ipython",
    "version": 3
   },
   "file_extension": ".py",
   "mimetype": "text/x-python",
   "name": "python",
   "nbconvert_exporter": "python",
   "pygments_lexer": "ipython3",
   "version": "3.7.6"
  }
 },
 "nbformat": 4,
 "nbformat_minor": 4
}
