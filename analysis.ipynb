{
 "cells": [
  {
   "cell_type": "markdown",
   "metadata": {},
   "source": [
    "## Data set analysis"
   ]
  },
  {
   "cell_type": "code",
   "execution_count": null,
   "metadata": {},
   "outputs": [],
   "source": [
    "import pandas as pd\n",
    "import numpy as np\n",
    "import matplotlib.pyplot as plt\n",
    "import sys\n",
    "import itertools\n",
    "import math\n",
    "import seaborn as sns\n",
    "import data_preprocessing as proc\n",
    "import visualisations as vis\n",
    "import networkx as nx\n",
    "from igraph import *\n",
    "np.set_printoptions(threshold=sys.maxsize)\n",
    "pd.set_option('display.max_rows', None)\n",
    "pd.set_option('display.max_columns', None)\n",
    "pd.set_option('display.width', None)\n",
    "pd.set_option('display.max_colwidth', None)"
   ]
  },
  {
   "cell_type": "code",
   "execution_count": null,
   "metadata": {},
   "outputs": [],
   "source": [
    "#Take only 'shelves' with minimum 200 usages in all data set\n",
    "limit_of_tag_frequency = 200\n",
    "df, shelves = proc.get_all_data(limit_of_tag_frequency)"
   ]
  },
  {
   "cell_type": "code",
   "execution_count": null,
   "metadata": {},
   "outputs": [],
   "source": [
    "df.info()"
   ]
  },
  {
   "cell_type": "code",
   "execution_count": null,
   "metadata": {},
   "outputs": [],
   "source": [
    "df.head()"
   ]
  },
  {
   "cell_type": "code",
   "execution_count": null,
   "metadata": {},
   "outputs": [],
   "source": [
    "df.describe(include='all')"
   ]
  },
  {
   "cell_type": "code",
   "execution_count": null,
   "metadata": {},
   "outputs": [],
   "source": [
    "all_tags = []\n",
    "for key, value in shelves.items():\n",
    "    all_tags += value\n",
    "        \n",
    "print(\"how many books: \" + str(len(shelves.items())))    \n",
    "print(\"how many usages of all tags [with duplicates]: \" + str(len(all_tags)))\n",
    "print(\"how many unique tags: \" + str(len(set(all_tags))))"
   ]
  },
  {
   "cell_type": "code",
   "execution_count": null,
   "metadata": {},
   "outputs": [],
   "source": [
    "from sklearn.preprocessing import KBinsDiscretizer\n",
    "\n",
    "def discretize_data(data):\n",
    "    data_disc = [[i] for i in data]\n",
    "    #kmeans/quantile/uniform\n",
    "    enc = KBinsDiscretizer(n_bins=5, encode='ordinal', strategy=\"uniform\")\n",
    "    enc.fit(data_disc)\n",
    "    grid_encoded = enc.transform(data_disc)\n",
    "    print(enc.bin_edges_)\n",
    "    return [int(j)+1 for sub in grid_encoded for j in sub]"
   ]
  },
  {
   "cell_type": "code",
   "execution_count": null,
   "metadata": {},
   "outputs": [],
   "source": [
    "data_arr = df.values\n",
    "columns = list(zip(*data_arr))\n",
    "\n",
    "authors = columns[-1]\n",
    "years = columns[-5]\n",
    "years_disc = discretize_data([int(i) for i in columns[-5] if i != \"None\"])\n",
    "pages= discretize_data([int(i) for i in columns[-3] if i != \"None\"])\n",
    "rates = discretize_data(columns[-4])\n",
    "popularity= discretize_data(columns[-2])"
   ]
  },
  {
   "cell_type": "code",
   "execution_count": null,
   "metadata": {},
   "outputs": [],
   "source": [
    "mylayout={\n",
    "    0:\"circular\", #circular layout\n",
    "    1:\"fr\", #layout_fruchterman_reingold\n",
    "    2:\"grid_fr\", #layout_grid_fruchterman_reingold\n",
    "    3: \"kk\", #layout_kamada_kawai\n",
    "    4: \"lgl\", #layout_lgl\n",
    "    5: \"Bipartite\" # Bipartite layout - only for Bipartites\n",
    "}"
   ]
  },
  {
   "cell_type": "markdown",
   "metadata": {},
   "source": [
    "## Visualisations"
   ]
  },
  {
   "cell_type": "markdown",
   "metadata": {},
   "source": [
    "For visualisations we used igraph library.\n",
    "Below we present the graph, where the edge means, that two connected books have the same author."
   ]
  },
  {
   "cell_type": "code",
   "execution_count": null,
   "metadata": {},
   "outputs": [],
   "source": [
    "#Parameters\n",
    "#degree -> Mimnium node degree, to be shown in the graph. \n",
    "#          It corresponds with minimum ammount of books written by single author.\n",
    "#use_layout -> Layout, that will be used to visualise graph [best 0,2 - circular, grid_fruchterman_reingold]\n",
    "degree = 7\n",
    "use_layout = mylayout[0]"
   ]
  },
  {
   "cell_type": "code",
   "execution_count": null,
   "metadata": {
    "scrolled": false
   },
   "outputs": [],
   "source": [
    "size = len(authors)\n",
    "unique_authors = list(set(authors))\n",
    "matrix = vis.make_feature_matrix(size,authors)\n",
    "\n",
    "g = Graph.Adjacency((matrix > 0).tolist(), mode = ADJ_MAX)\n",
    "#show only books with degree bigger than our parametr 'degree'\n",
    "to_delete_ids = [v.index for v in g.vs if v.degree() <= degree]\n",
    "g.delete_vertices(to_delete_ids)\n",
    "\n",
    "visual_style = vis.visualise_gaph(g, use_layout)\n",
    "plot(g, **visual_style)"
   ]
  },
  {
   "cell_type": "markdown",
   "metadata": {},
   "source": [
    "The other way to visualise that, is to add 'authors' to graph as nodes, and then create bipartite network, where each book is connected to one author."
   ]
  },
  {
   "cell_type": "code",
   "execution_count": null,
   "metadata": {},
   "outputs": [],
   "source": [
    "#Parameters\n",
    "#how_many -> How many top authors should be visualised. \n",
    "#\n",
    "#use_layout -> Layout, that will be used to visualise graph [best 1 - fruchterman_reingold, 5 - Bipartite]\n",
    "how_many = 10\n",
    "use_layout = mylayout[1]"
   ]
  },
  {
   "cell_type": "code",
   "execution_count": null,
   "metadata": {},
   "outputs": [],
   "source": [
    "g, visual_style = vis.visualise_binomials(df,authors,\"AUTHOR\", how_many, use_layout)\n",
    "\n",
    "plot(g, **visual_style)"
   ]
  },
  {
   "cell_type": "code",
   "execution_count": null,
   "metadata": {},
   "outputs": [],
   "source": [
    "#Parameters\n",
    "#how_many -> How many top years should be visualised. \n",
    "#\n",
    "#use_layout -> Layout, that will be used to visualise graph [best 1 - fruchterman_reingold, 5 - Bipartite]\n",
    "how_many = 50\n",
    "use_layout = mylayout[1]"
   ]
  },
  {
   "cell_type": "code",
   "execution_count": null,
   "metadata": {},
   "outputs": [],
   "source": [
    "g, visual_style = vis.visualise_binomials(df,years,\"YEAR\", how_many, use_layout)\n",
    "\n",
    "plot(g, **visual_style)"
   ]
  },
  {
   "cell_type": "code",
   "execution_count": null,
   "metadata": {},
   "outputs": [],
   "source": [
    "#Parameters\n",
    "#use_layout -> Layout, that will be used to visualise graph [best 1/2 - fruchterman_reingold, 5 - Bipartite]\n",
    "use_layout = mylayout[2]"
   ]
  },
  {
   "cell_type": "code",
   "execution_count": null,
   "metadata": {},
   "outputs": [],
   "source": [
    "g, visual_style = vis.visualise_binomials(df,years_disc,\"None\", -1, use_layout)\n",
    "\n",
    "plot(g, **visual_style)"
   ]
  },
  {
   "cell_type": "code",
   "execution_count": null,
   "metadata": {},
   "outputs": [],
   "source": [
    "#Parameters\n",
    "#how_many -> How many top years should be visualised. \n",
    "#\n",
    "#use_layout -> Layout, that will be used to visualise graph [best 1 - fruchterman_reingold, 5 - Bipartite]\n",
    "how_many = 10\n",
    "use_layout = mylayout[5]\n",
    "df, shelves = proc.get_all_data(1000)"
   ]
  },
  {
   "cell_type": "code",
   "execution_count": null,
   "metadata": {},
   "outputs": [],
   "source": [
    "all_tags = []\n",
    "all_keys = []\n",
    "for key, value in shelves.items():\n",
    "    all_tags += value\n",
    "    all_keys.append(key)\n",
    "\n",
    "unique = list(set(all_tags))\n",
    "dic_val_unique = {aut: num + size for num, aut in enumerate(unique)}\n",
    "dic_key_unique = {aut: num for num, aut in enumerate(all_keys)}\n",
    "\n",
    "edges = []\n",
    "counter = 0\n",
    "limit = 10\n",
    "for key,item in shelves.items():\n",
    "    if counter > limit:\n",
    "        break\n",
    "    for tag in item:\n",
    "        edges.append((dic_key_unique[key], dic_val_unique[tag]))\n",
    "    counter += 1\n",
    "g = Graph.Bipartite([0] * size + [1] * len(dic_val_unique), edges)\n",
    "labels = [\"\"] * len(g.vs)\n",
    "labels[len(g.vs) - len(unique):] = unique\n",
    "g.vs[\"label\"] = labels\n",
    "\n",
    "# delete books without connections with its author\n",
    "to_delete_ids = [v.index for v in g.vs if v.degree() <= 0]\n",
    "g.delete_vertices(to_delete_ids)\n",
    "\n",
    "if use_layout == \"Bipartite\":\n",
    "    visual_style = vis.visualise_gaph(g)\n",
    "    visual_style[\"layout\"] = g.layout_bipartite()\n",
    "else:\n",
    "    visual_style = vis.visualise_gaph(g, use_layout)\n",
    "    \n",
    "#visual_style[\"vertex_label\"] = labels\n",
    "seq = g.vs\n",
    "print([seq[-1]])\n",
    "plot(g, **visual_style)"
   ]
  },
  {
   "cell_type": "code",
   "execution_count": null,
   "metadata": {},
   "outputs": [],
   "source": [
    "#Parameters\n",
    "#use_layout -> Layout, that will be used to visualise graph [best 1 - fruchterman_reingold, 5 - Bipartite]\n",
    "use_layout = mylayout[1]"
   ]
  },
  {
   "cell_type": "code",
   "execution_count": null,
   "metadata": {},
   "outputs": [],
   "source": [
    "g, visual_style = vis.visualise_binomials(df,rates,\"None\", -1, use_layout)\n",
    "\n",
    "plot(g, **visual_style)"
   ]
  },
  {
   "cell_type": "code",
   "execution_count": null,
   "metadata": {},
   "outputs": [],
   "source": [
    "#Parameters\n",
    "#use_layout -> Layout, that will be used to visualise graph [best 1/2 - fruchterman_reingold, 5 - Bipartite]\n",
    "use_layout = mylayout[2]"
   ]
  },
  {
   "cell_type": "code",
   "execution_count": null,
   "metadata": {},
   "outputs": [],
   "source": [
    "g, visual_style = vis.visualise_binomials(df,popularity,\"None\", -1, use_layout)\n",
    "\n",
    "plot(g, **visual_style)"
   ]
  },
  {
   "cell_type": "code",
   "execution_count": null,
   "metadata": {},
   "outputs": [],
   "source": [
    "#Parameters\n",
    "#use_layout -> Layout, that will be used to visualise graph [best 1/2 - fruchterman_reingold, 5 - Bipartite]\n",
    "use_layout = mylayout[2]"
   ]
  },
  {
   "cell_type": "code",
   "execution_count": null,
   "metadata": {},
   "outputs": [],
   "source": [
    "g, visual_style = vis.visualise_binomials(df,pages,\"None\", -1, use_layout)\n",
    "\n",
    "plot(g, **visual_style)"
   ]
  },
  {
   "cell_type": "code",
   "execution_count": null,
   "metadata": {},
   "outputs": [],
   "source": [
    "#Parameters\n",
    "#degree -> Mimnium node degree, to be shown in the graph. \n",
    "#          It corresponds with minimum ammount of books written by single author.\n",
    "#use_layout -> Layout, that will be used to visualise graph [best 0,2 - circular, grid_fruchterman_reingold]\n",
    "degree = 7\n",
    "use_layout = mylayout[0]"
   ]
  },
  {
   "cell_type": "code",
   "execution_count": null,
   "metadata": {},
   "outputs": [],
   "source": [
    "authors = columns[-1]\n",
    "years = discretize_data([int(i) if i != \"None\" else -1 for i in columns[-5]])\n",
    "pages= discretize_data([int(i) if i != \"None\" else -1 for i in columns[-3]])\n",
    "rates = discretize_data(columns[-4])\n",
    "popularity= discretize_data(columns[-2])\n",
    "size = df.shape[0]\n",
    "matrix_authors = vis.make_feature_matrix(size,authors)\n",
    "matrix_years = vis.make_feature_matrix(size,years)\n",
    "matrix_pages = vis.make_feature_matrix(size,pages)\n",
    "matrix_rates = vis.make_feature_matrix(size,rates)\n",
    "matrix_popularity = vis.make_feature_matrix(size,popularity)"
   ]
  },
  {
   "cell_type": "code",
   "execution_count": null,
   "metadata": {
    "scrolled": false
   },
   "outputs": [],
   "source": [
    "matrix = matrix_authors + matrix_years + matrix_pages + matrix_rates + matrix_popularity\n",
    "print(matrix_authors.shape)\n",
    "print(matrix.shape)\n",
    "g = Graph.Adjacency((matrix > 0).tolist(), mode = ADJ_MAX)\n",
    "#show only books with degree bigger than our parametr 'degree'\n",
    "to_delete_ids = [v.index for v in g.vs if v.degree() <= degree]\n",
    "g.delete_vertices(to_delete_ids)\n",
    "\n",
    "visual_style = vis.visualise_gaph(g, use_layout)\n",
    "#plot(g, **visual_style)"
   ]
  },
  {
   "cell_type": "code",
   "execution_count": null,
   "metadata": {},
   "outputs": [],
   "source": []
  }
 ],
 "metadata": {
  "kernelspec": {
   "display_name": "Python 3",
   "language": "python",
   "name": "python3"
  },
  "language_info": {
   "codemirror_mode": {
    "name": "ipython",
    "version": 3
   },
   "file_extension": ".py",
   "mimetype": "text/x-python",
   "name": "python",
   "nbconvert_exporter": "python",
   "pygments_lexer": "ipython3",
   "version": "3.7.5"
  }
 },
 "nbformat": 4,
 "nbformat_minor": 4
}
