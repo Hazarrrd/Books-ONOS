{
 "cells": [
  {
   "cell_type": "markdown",
   "metadata": {},
   "source": [
    "## Data set analysis"
   ]
  },
  {
   "cell_type": "code",
   "execution_count": null,
   "metadata": {},
   "outputs": [],
   "source": [
    "%load_ext autoreload\n",
    "%autoreload 2\n",
    "\n",
    "import pandas as pd\n",
    "import numpy as np\n",
    "import matplotlib.pyplot as plt\n",
    "import sys\n",
    "import itertools\n",
    "import math\n",
    "import seaborn as sns\n",
    "import data_preprocessing as proc\n",
    "import visualisations as vis\n",
    "import networkx as nx\n",
    "from igraph import *\n",
    "np.set_printoptions(threshold=sys.maxsize)\n",
    "pd.set_option('display.max_rows', None)\n",
    "pd.set_option('display.max_columns', None)\n",
    "pd.set_option('display.width', None)\n",
    "pd.set_option('display.max_colwidth', None)"
   ]
  },
  {
   "cell_type": "code",
   "execution_count": null,
   "metadata": {},
   "outputs": [],
   "source": [
    "#Take only 'shelves' with minimum 200 usages in all data set\n",
    "limit_of_tag_frequency = 200\n",
    "df, shelves = proc.get_all_data(limit_of_tag_frequency)"
   ]
  },
  {
   "cell_type": "code",
   "execution_count": null,
   "metadata": {},
   "outputs": [],
   "source": [
    "df.info()"
   ]
  },
  {
   "cell_type": "code",
   "execution_count": null,
   "metadata": {
    "scrolled": false
   },
   "outputs": [],
   "source": [
    "df.head()"
   ]
  },
  {
   "cell_type": "code",
   "execution_count": null,
   "metadata": {},
   "outputs": [],
   "source": [
    "df.describe(include='all')"
   ]
  },
  {
   "cell_type": "code",
   "execution_count": null,
   "metadata": {},
   "outputs": [],
   "source": [
    "df, shelves = proc.get_all_data(50)\n",
    "all_tags = []\n",
    "for key, value in shelves.items():\n",
    "    all_tags += value\n",
    "print(set(all_tags))\n",
    "print(\"how many books: \" + str(len(shelves.items())))    \n",
    "print(\"how many usages of all tags [with duplicates]: \" + str(len(all_tags)))\n",
    "print(\"how many unique tags: \" + str(len(set(all_tags))))"
   ]
  },
  {
   "cell_type": "code",
   "execution_count": null,
   "metadata": {},
   "outputs": [],
   "source": [
    "vis.show_wordcloud(shelves)"
   ]
  },
  {
   "cell_type": "code",
   "execution_count": null,
   "metadata": {},
   "outputs": [],
   "source": [
    "data_arr = df.values\n",
    "columns = list(zip(*data_arr))\n",
    "\n",
    "authors = columns[-1]\n",
    "years = columns[-5]\n",
    "years_disc = vis.discretize_data([int(i) for i in columns[-5] if i != \"None\"])\n",
    "pages= vis.discretize_data([int(i) for i in columns[-3] if i != \"None\"])\n",
    "rates = vis.discretize_data(columns[-4])\n",
    "popularity= vis.discretize_data(columns[-2], strategy = \"quantile\")"
   ]
  },
  {
   "cell_type": "code",
   "execution_count": null,
   "metadata": {},
   "outputs": [],
   "source": [
    "mylayout={\n",
    "    0:\"circular\", #circular layout\n",
    "    1:\"fr\", #layout_fruchterman_reingold\n",
    "    2:\"grid_fr\", #layout_grid_fruchterman_reingold\n",
    "    3: \"kk\", #layout_kamada_kawai\n",
    "    4: \"lgl\", #layout_lgl\n",
    "    5: \"Bipartite\" # Bipartite layout - only for Bipartites\n",
    "}"
   ]
  },
  {
   "cell_type": "markdown",
   "metadata": {},
   "source": [
    "## Visualisations"
   ]
  },
  {
   "cell_type": "markdown",
   "metadata": {},
   "source": [
    "For visualisations we used igraph library.\n",
    "Below we present the graph, where the edge means, that two connected books have the same author.\n",
    "<br>Parameters:\n",
    "- degree -> Mimnium node degree, to be shown in the graph. It corresponds with minimum ammount of books written by single author.\n",
    "- use_layout -> Layout, that will be used to visualise graph (best 0,2 - circular, grid_fruchterman_reingold)"
   ]
  },
  {
   "cell_type": "code",
   "execution_count": null,
   "metadata": {},
   "outputs": [],
   "source": [
    "#Parameters\n",
    "degree = 12\n",
    "use_layout = mylayout[0]"
   ]
  },
  {
   "cell_type": "code",
   "execution_count": null,
   "metadata": {
    "scrolled": false
   },
   "outputs": [],
   "source": [
    "g, visual_style = vis.visualise_normal_graph(authors, degree, use_layout)\n",
    "plot(g, **visual_style)"
   ]
  },
  {
   "cell_type": "markdown",
   "metadata": {},
   "source": [
    "The other way to visualise that, is to add 'authors' to graph as nodes, and then create bipartite network, where each book is connected to one author.\n",
    "<br>Parameters:\n",
    "- how_many -> How many top authors should be visualised.\n",
    "- use_layout -> Layout, that will be used to visualise graph (best 1 - fruchterman_reingold, 5 - Bipartite)"
   ]
  },
  {
   "cell_type": "code",
   "execution_count": null,
   "metadata": {},
   "outputs": [],
   "source": [
    "#Parameters\n",
    "how_many = 10\n",
    "use_layout = mylayout[1]"
   ]
  },
  {
   "cell_type": "code",
   "execution_count": null,
   "metadata": {},
   "outputs": [],
   "source": [
    "g, visual_style = vis.visualise_binomials(df,authors,\"AUTHOR\", how_many, use_layout)\n",
    "plot(g, **visual_style)"
   ]
  },
  {
   "cell_type": "markdown",
   "metadata": {},
   "source": [
    "Below there is visualisation that shows, when books were published.\n",
    "<br>Parameters:\n",
    "- how_many -> How many most frequent years should be visualised\n",
    "- use_layout -> Layout, that will be used to visualise graph (best 1 - fruchterman_reingold, 5 - Bipartite)\n",
    "- discretized -> Decides, if year should be discretized into 5 bins (1888. , 1913.8, 1939.6, 1965.4, 1991.2, 2017)"
   ]
  },
  {
   "cell_type": "code",
   "execution_count": null,
   "metadata": {},
   "outputs": [],
   "source": [
    "#Parameters\n",
    "how_many = 30\n",
    "use_layout = mylayout[1]\n",
    "discretized = True"
   ]
  },
  {
   "cell_type": "code",
   "execution_count": null,
   "metadata": {},
   "outputs": [],
   "source": [
    "if discretized:\n",
    "    g, visual_style = vis.visualise_binomials(df,years_disc,\"None\", how_many, use_layout)\n",
    "else:\n",
    "    g, visual_style = vis.visualise_binomials(df,years,\"YEAR\", how_many, use_layout)\n",
    "\n",
    "plot(g, **visual_style)"
   ]
  },
  {
   "cell_type": "markdown",
   "metadata": {},
   "source": [
    "That visualisations shows relation between tags and books.\n",
    "<br>Parameters:\n",
    "- tag_limit -> set up minimal frequency of tag in the entire data set, to be considered as node\n",
    "- how_many_books -> set up ammount of books to be presented on the graph \n",
    "- use_layout -> Layout, that will be used to visualise graph (best 1 - fruchterman_reingold, 5 - Bipartite)"
   ]
  },
  {
   "cell_type": "code",
   "execution_count": null,
   "metadata": {},
   "outputs": [],
   "source": [
    "#Parameters\n",
    "tag_limit = 100\n",
    "how_many_books = 50\n",
    "use_layout = mylayout[5]"
   ]
  },
  {
   "cell_type": "code",
   "execution_count": null,
   "metadata": {},
   "outputs": [],
   "source": [
    "g, visual_style = vis.visualise_tags_binomial(tag_limit, use_layout, how_many_books)\n",
    "plot(g, **visual_style)"
   ]
  },
  {
   "cell_type": "markdown",
   "metadata": {},
   "source": [
    "Below there is visualisation that shows, how books were rated (1,2,3,4,5).\n",
    "<br>Parameters:\n",
    "- use_layout -> Layout, that will be used to visualise graph (best 1 - fruchterman_reingold, 5 - Bipartite)"
   ]
  },
  {
   "cell_type": "code",
   "execution_count": null,
   "metadata": {},
   "outputs": [],
   "source": [
    "#Parameters\n",
    "use_layout = mylayout[1]"
   ]
  },
  {
   "cell_type": "code",
   "execution_count": null,
   "metadata": {},
   "outputs": [],
   "source": [
    "g, visual_style = vis.visualise_binomials(df,rates,\"None\", -1, use_layout)\n",
    "plot(g, **visual_style)"
   ]
  },
  {
   "cell_type": "markdown",
   "metadata": {},
   "source": [
    "Below there is visualisation that shows popularity of books. Popularity is discretized by the following bins: <br>[0, 5, 20, 83, 613, 1538774] \n",
    "<br>Parameters:\n",
    "- use_layout -> Layout, that will be used to visualise graph (best 1 - fruchterman_reingold, 5 - Bipartite)"
   ]
  },
  {
   "cell_type": "code",
   "execution_count": null,
   "metadata": {},
   "outputs": [],
   "source": [
    "#Parameters\n",
    "use_layout = mylayout[5]"
   ]
  },
  {
   "cell_type": "code",
   "execution_count": null,
   "metadata": {},
   "outputs": [],
   "source": [
    "g, visual_style = vis.visualise_binomials(df,popularity,\"None\", -1, use_layout)\n",
    "plot(g, **visual_style)"
   ]
  },
  {
   "cell_type": "markdown",
   "metadata": {},
   "source": [
    "Below there is visualisation that shows size of books. Page ammount is discretized by the following bins: <br>[   0. ,  566.4, 1132.8, 1699.2, 2265.6, 2832. ]\n",
    "<br>Parameters:\n",
    "- use_layout -> Layout, that will be used to visualise graph (best 1/2 - fruchterman_reingold, 5 - Bipartite)"
   ]
  },
  {
   "cell_type": "code",
   "execution_count": null,
   "metadata": {},
   "outputs": [],
   "source": [
    "#Parameters\n",
    "use_layout = mylayout[2]"
   ]
  },
  {
   "cell_type": "code",
   "execution_count": null,
   "metadata": {},
   "outputs": [],
   "source": [
    "g, visual_style = vis.visualise_binomials(df,pages,\"None\", -1, use_layout)\n",
    "\n",
    "plot(g, **visual_style)"
   ]
  },
  {
   "cell_type": "code",
   "execution_count": null,
   "metadata": {},
   "outputs": [],
   "source": [
    "authors = columns[-1]\n",
    "years = vis.discretize_data([int(i) if i != \"None\" else -1 for i in columns[-5]])\n",
    "titles = list(columns[-6])\n",
    "pages= vis.discretize_data([int(i) if i != \"None\" else -1 for i in columns[-3]])\n",
    "rates = vis.discretize_data(columns[-4])\n",
    "popularity= vis.discretize_data(columns[-2], strategy = \"quantile\")\n",
    "size = df.shape[0]\n",
    "ids = list(columns[0])\n",
    "matrix_authors = vis.make_feature_matrix(size,authors)\n",
    "matrix_years = vis.make_feature_matrix(size,years)\n",
    "matrix_pages = vis.make_feature_matrix(size,pages)\n",
    "matrix_rates = vis.make_feature_matrix(size,rates)\n",
    "matrix_popularity = vis.make_feature_matrix(size,popularity)\n",
    "\n"
   ]
  },
  {
   "cell_type": "code",
   "execution_count": null,
   "metadata": {},
   "outputs": [],
   "source": [
    "list1 = [\"The Old Man and the Sea\", \"Misery\", \"It's Not about the Bike: My Journey Back to Life\",\n",
    "       \"The Universe in a Single Atom: The Convergence of Science and Spirituality\", \n",
    "        \"The Seven Habits of Highly Effective People\", \"Poems New and Collected\", \"Trump: How to Get Rich\",\n",
    "        \"The Odyssey\",\"The Complete Chronicles of Narnia\", \"Hamlet (Norton Critical Edition)\",\n",
    "        \"The History of the Lord of the Rings (The History of Middle-earth #6-9)\", \"The Iliad\", \n",
    "        \"The Sorrows of Young Werther / Die Leiden Des Jungen Werther\",'A Briefer History of Time']\n",
    "        \n",
    "    \n",
    "list2 = ['Rose Madder','The Eyes of the Dragon', 'Eleven Minutes', 'Twelfth Night',\n",
    "'The Old Man and the Sea','Misery','A Briefer History of Time','The Universe in a Nutshell',\n",
    " \"It's Not about the Bike: My Journey Back to Life\",\n",
    " \"The Universe in a Single Atom: The Convergence of Science and Spirituality\",\n",
    " \"In the Name of Jesus: Reflections on Christian Leadership\",\"The Innocents Abroad\",\n",
    " \"To Kill a Mockingbird\",\n",
    " \"Harry Potter Schoolbooks Box Set: Two Classic Books from the Library of Hogwarts School of Witchcraft and Wizardry\",\n",
    " \"Trump: The Art of the Deal\", \"Dracula\",\n",
    " \"Preface to the Presidency: Selected Speeches of Bill Clinton 1974-1992\",\n",
    " \"Lysis/Phaedrus/Symposium: Plato on Homosexuality\", \"Poems New and Collected\"]\n",
    "\n",
    "tlist1 = ['Rose Madder','The Eyes of the Dragon', 'Eleven Minutes',\n",
    "          \"Lysis/Phaedrus/Symposium: Plato on Homosexuality\", \"The Complete Chronicles of Narnia\",\n",
    "         \"Harry Potter Schoolbooks Box Set: Two Classic Books from the Library of Hogwarts School of Witchcraft and Wizardry\"]\n",
    "\n",
    "tlist2 = ['Rose Madder','The Eyes of the Dragon','Misery',\n",
    "          'A Briefer History of Time','The Universe in a Nutshell',\n",
    "          \"Dracula\" ]\n",
    "\n",
    "tlist3 = [\"The Universe in a Single Atom: The Convergence of Science and Spirituality\",\n",
    " \"In the Name of Jesus: Reflections on Christian Leadership\",\n",
    "          'A Briefer History of Time','The Universe in a Nutshell',\n",
    "          'Twelfth Night', \"Poems New and Collected\",\n",
    "          'Rose Madder','The Eyes of the Dragon','Misery'\n",
    "         ]\n",
    "\n",
    "tlist11 = ['Rose Madder','The Eyes of the Dragon','The Old Man and the Sea','Misery',\"To Kill a Mockingbird\",\n",
    "              \"Trump: The Art of the Deal\", \"Dracula\",\"Preface to the Presidency: Selected Speeches of Bill Clinton 1974-1992\",]\n",
    "\n",
    "tlist22 = ['A Briefer History of Time','The Universe in a Nutshell', \n",
    "               \"In the Name of Jesus: Reflections on Christian Leadership\",\n",
    "              \"Poems New and Collected\", 'Twelfth Night',\n",
    "              \"Harry Potter Schoolbooks Box Set: Two Classic Books from the Library of Hogwarts School of Witchcraft and Wizardry\",\n",
    "              \"It's Not about the Bike: My Journey Back to Life\", \n",
    "              \"The Universe in a Single Atom: The Convergence of Science and Spirituality\", \"Misery\"]"
   ]
  },
  {
   "cell_type": "markdown",
   "metadata": {},
   "source": [
    "This graph is showing correlation between books. All nodes are books and every pair has edge (complete graph). darker and widther edge means bigger correlation between books. Thick and  bright edge means small correlaion. \n",
    "- tag_limit -> set up minimal frequency of tag in the entire data set, to be considered as node\n",
    "- how_many -> how many books should be presentend on the graph [only random mode, nearest books mode]\n",
    "- use_layout -> Layout, that will be used to visualise graph [best 0]\n",
    "- scal -> Set up weight for each attributes, that may be common between two books: author, publish year, book size, book rate, book popularity, shelves\n",
    "- custom_title_list -> list of books mode - list of books to show on the grah [if none, then random mode/nearest books mode]\n",
    "- find_best_for -> nearest books mode - give book title, and there will be generated graph containing the most similar books to that title [if none, then random mode/list of books mode]"
   ]
  },
  {
   "cell_type": "code",
   "execution_count": null,
   "metadata": {},
   "outputs": [],
   "source": [
    "#Parameters\n",
    "tag_limit = 50\n",
    "how_many = 10\n",
    "use_layout = mylayout[0]\n",
    "scal = {\"auth\":1, \"years\":0, \"pages\":0, \"rates\":0, \"popularity\":0, \"shelves\":5}\n",
    "custom_title_list = tlist2\n",
    "#custom_title_list = None\n",
    "#find_best_for =\"A Briefer History of Time\"\n",
    "find_best_for = None"
   ]
  },
  {
   "cell_type": "code",
   "execution_count": null,
   "metadata": {},
   "outputs": [],
   "source": [
    "df, shelves = proc.get_all_data(tag_limit)\n",
    "vis.show_wordcloud(shelves)"
   ]
  },
  {
   "cell_type": "code",
   "execution_count": null,
   "metadata": {
    "scrolled": true
   },
   "outputs": [],
   "source": [
    "g, visual_style = vis.visualuse_similarity(use_layout, how_many, tag_limit, ids, scal, titles, authors,\n",
    "                         matrix_authors, matrix_years, matrix_pages,\n",
    "                         matrix_rates, matrix_popularity, title_list=custom_title_list, find_best=find_best_for)\n",
    "\n",
    "plot(g, **visual_style)"
   ]
  },
  {
   "cell_type": "code",
   "execution_count": null,
   "metadata": {},
   "outputs": [],
   "source": [
    "print(g.vs['label'])\n",
    "#df[\"TITLE\"= 'A Briefer History of Time']\n",
    "#print(titles.index('A Briefer History of Time'))\n",
    "#df.loc[df[\"TITLE\"] == 'A Briefer History of Time']\n",
    "#df.sort_values('YEAR')[:1000]"
   ]
  },
  {
   "cell_type": "code",
   "execution_count": null,
   "metadata": {},
   "outputs": [],
   "source": [
    "df.sort_values('POPULARITY')[:-1]"
   ]
  },
  {
   "cell_type": "code",
   "execution_count": 44,
   "metadata": {
    "scrolled": true
   },
   "outputs": [
    {
     "data": {
      "application/vnd.jupyter.widget-view+json": {
       "model_id": "4b0ec42ef34d4b1093f3921835ee3cfc",
       "version_major": 2,
       "version_minor": 0
      },
      "text/plain": [
       "Text(value='', description='Books:')"
      ]
     },
     "metadata": {},
     "output_type": "display_data"
    },
    {
     "data": {
      "application/vnd.jupyter.widget-view+json": {
       "model_id": "48adbaa385ec48da86cc0dabd66ca768",
       "version_major": 2,
       "version_minor": 0
      },
      "text/plain": [
       "Dropdown(description='Selected list:', options=('None', 'List_1', 'List_2', 'List_3'), value='None')"
      ]
     },
     "metadata": {},
     "output_type": "display_data"
    },
    {
     "data": {
      "application/vnd.jupyter.widget-view+json": {
       "model_id": "181f53a355c0417f8639e3c67be149b7",
       "version_major": 2,
       "version_minor": 0
      },
      "text/plain": [
       "interactive(children=(FloatSlider(value=1.0, description='Author: ', max=10.0), FloatSlider(value=1.0, descrip…"
      ]
     },
     "metadata": {},
     "output_type": "display_data"
    }
   ],
   "source": [
    "\n",
    "from ipywidgets import interact, fixed, FloatSlider, IntSlider, interact_manual, VBox, HBox, interactive\n",
    "import ipywidgets as widgets\n",
    "from IPython.display import display, clear_output, Image\n",
    "import data_preprocessing as proc\n",
    "import visualisations as vis\n",
    "from igraph import * \n",
    "import warnings\n",
    "warnings.filterwarnings('ignore')\n",
    "\n",
    "\n",
    "tag_limit = 100  \n",
    "how_many = 10 \n",
    "\n",
    "text = widgets.Text( description='Books:')\n",
    "display(text)\n",
    "\n",
    "\n",
    "select = widgets.Dropdown(\n",
    "    options=['None', 'List_1', 'List_2','List_3'],\n",
    "    value='None',\n",
    "    description='Selected list:',\n",
    ")\n",
    "display(select)\n",
    "\n",
    "auth = FloatSlider(min=0, max=10, value=1, description=\"Author: \")\n",
    "year = FloatSlider(min=0, max=10, value=1, description=\"Publication year: \")\n",
    "pages = FloatSlider(min=0, max=10, value=0.4, description=\"Number of pages: \")\n",
    "rates = FloatSlider(min=0, max=10, value=2, description=\"Author: \")\n",
    "popularity = FloatSlider(min=0, max=10, value=0, description=\"Popularity: \")\n",
    "shelves = FloatSlider(min=0, max=10, value=4, description=\"Subject: \")\n",
    "\n",
    "tag_limit = IntSlider(min=1, max=300, value=20, description=\"Tags:\")\n",
    "how_many = IntSlider(min=1, max=300, value=2, description=\"Neighbors:\")\n",
    "\n",
    "#display(auth, year, pages, rates, popularity, shelves)\n",
    "\n",
    "items = HBox([auth, year, pages, rates, popularity, shelves, tag_limit, how_many])\n",
    "\n",
    "tlist3 = ['Rose Madder','The Eyes of the Dragon', 'Eleven Minutes', 'Twelfth Night',\n",
    "'The Old Man and the Sea','Misery','A Briefer History of Time','The Universe in a Nutshell',\n",
    " \"It's Not about the Bike: My Journey Back to Life\",\n",
    " \"The Universe in a Single Atom: The Convergence of Science and Spirituality\",\n",
    " \"In the Name of Jesus: Reflections on Christian Leadership\",\"The Innocents Abroad\",\n",
    " \"To Kill a Mockingbird\",\n",
    " \"Harry Potter Schoolbooks Box Set: Two Classic Books from the Library of Hogwarts School of Witchcraft and Wizardry\",\n",
    " \"Trump: The Art of the Deal\", \"Dracula\",\n",
    " \"Preface to the Presidency: Selected Speeches of Bill Clinton 1974-1992\",\n",
    " \"Lysis/Phaedrus/Symposium: Plato on Homosexuality\", \"Poems New and Collected\"]\n",
    "\n",
    "tlist1 = ['Rose Madder','The Eyes of the Dragon','The Old Man and the Sea','Misery',\"To Kill a Mockingbird\",\n",
    "              \"Trump: The Art of the Deal\", \"Dracula\",\"Preface to the Presidency: Selected Speeches of Bill Clinton 1974-1992\",]\n",
    "\n",
    "tlist2 = ['A Briefer History of Time','The Universe in a Nutshell', \n",
    "               \"In the Name of Jesus: Reflections on Christian Leadership\",\n",
    "              \"Poems New and Collected\", 'Twelfth Night',\n",
    "              \"Harry Potter Schoolbooks Box Set: Two Classic Books from the Library of Hogwarts School of Witchcraft and Wizardry\",\n",
    "              \"It's Not about the Bike: My Journey Back to Life\", \n",
    "              \"The Universe in a Single Atom: The Convergence of Science and Spirituality\", \"Misery\"]\n",
    "\n",
    "scal = {\"auth\":1, \"years\":1, \"pages\":1, \"rates\":1, \"popularity\":1, \"shelves\":1}\n",
    "\n",
    "@interact_manual(auth=auth, year=year, pages=pages, rates=rates, popularity=popularity, shelves=shelves, tag_limit=tag_limit, how_many=how_many)\n",
    "def update_graph(auth, year, pages, rates, popularity, shelves, tag_limit, how_many):\n",
    "    scal = {\"auth\":auth, \"years\":year, \"pages\":pages, \"rates\":rates, \"popularity\":popularity, \"shelves\":shelves}\n",
    "   \n",
    "    if select.value == \"None\" : \n",
    "        if \",\" not in (text.value): \n",
    "            find_best_for = text.value \n",
    "        else :\n",
    "            find_best_for = None\n",
    "        tlist = (text.value).split(\",\")\n",
    "    else : \n",
    "        find_best_for = None\n",
    "        if select.value == \"List_1\" :\n",
    "            tlist=tlist1\n",
    "        if select.value == \"List_2\" : \n",
    "            tlist=tlist2\n",
    "        if select.value == \"List_3\" : \n",
    "            tlist=tlist3\n",
    "    g, visual_style = vis.visualuse_similarity(\"circular\", how_many, tag_limit, ids, scal, titles, authors,\n",
    "                         matrix_authors, matrix_years, matrix_pages,\n",
    "                         matrix_rates, matrix_popularity, title_list=tlist, find_best=find_best_for)\n",
    "    p = plot(g, **visual_style)\n",
    "    p.save('graph.png')\n",
    "    return Image(filename='graph.png')  \n",
    "    \n"
   ]
  },
  {
   "cell_type": "code",
   "execution_count": null,
   "metadata": {},
   "outputs": [],
   "source": []
  },
  {
   "cell_type": "code",
   "execution_count": null,
   "metadata": {},
   "outputs": [],
   "source": []
  },
  {
   "cell_type": "code",
   "execution_count": null,
   "metadata": {},
   "outputs": [],
   "source": []
  },
  {
   "cell_type": "code",
   "execution_count": null,
   "metadata": {},
   "outputs": [],
   "source": []
  }
 ],
 "metadata": {
  "kernelspec": {
   "display_name": "Python 3",
   "language": "python",
   "name": "python3"
  },
  "language_info": {
   "codemirror_mode": {
    "name": "ipython",
    "version": 3
   },
   "file_extension": ".py",
   "mimetype": "text/x-python",
   "name": "python",
   "nbconvert_exporter": "python",
   "pygments_lexer": "ipython3",
   "version": "3.7.7"
  }
 },
 "nbformat": 4,
 "nbformat_minor": 4
}
