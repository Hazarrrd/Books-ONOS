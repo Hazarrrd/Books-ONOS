{
 "cells": [
  {
   "cell_type": "code",
   "execution_count": null,
   "metadata": {
    "extensions": {
     "jupyter_dashboards": {
      "version": 1,
      "views": {
       "default_view": {
        "col": 7,
        "height": 2,
        "hidden": true,
        "row": 0,
        "width": 5
       }
      }
     }
    }
   },
   "outputs": [],
   "source": [
    "from IPython.core.display import display, HTML\n"
   ]
  },
  {
   "cell_type": "code",
   "execution_count": null,
   "metadata": {
    "extensions": {
     "jupyter_dashboards": {
      "version": 1,
      "views": {
       "default_view": {
        "col": 0,
        "height": 2,
        "hidden": false,
        "row": 0,
        "width": 12
       }
      }
     }
    }
   },
   "outputs": [],
   "source": [
    "display(HTML(\"<h8>Hello!</h8>\"))"
   ]
  },
  {
   "cell_type": "code",
   "execution_count": null,
   "metadata": {
    "extensions": {
     "jupyter_dashboards": {
      "version": 1,
      "views": {
       "default_view": {
        "col": 1,
        "height": 17,
        "hidden": false,
        "row": 2,
        "width": 7
       }
      }
     }
    },
    "scrolled": true
   },
   "outputs": [],
   "source": [
    "from bokeh.plotting import figure, show, output_notebook, save, output_file\n",
    "from bokeh.models import HoverTool, value, LabelSet, Legend, ColumnDataSource\n",
    "from bokeh.transform import factor_cmap\n",
    "from bokeh.palettes import Category20b\n",
    "import pandas as pd\n",
    "from bokeh.models import ColumnDataSource, Div, Select, Slider, TextInput, RangeSlider, CheckboxGroup\n",
    "import numpy as np \n",
    "from bokeh.layouts import column, layout\n",
    "from bokeh.io import curdoc\n",
    "from bokeh.application import Application\n",
    "from bokeh.application.handlers import FunctionHandler\n",
    "\n",
    "\n",
    "%store -r df_combine\n",
    "%store -r category_tags\n",
    "%store -r category_color\n",
    "\n",
    "output_notebook()\n",
    "\n",
    "source = ColumnDataSource(dict(\n",
    "    x=df_combine['x_tsne'],\n",
    "    y=df_combine['y_tsne'],\n",
    "    title= df_combine['title'],\n",
    "    fill_color=df_combine['node_color'],\n",
    "  #  legend_label=book_category_series\n",
    "))\n",
    "\n",
    "title = 'PCA visualization of embeddings'\n",
    "\n",
    "plot_lda = figure(plot_width=2000, plot_height=600,\n",
    "                     title='Find your boook!', tools=\"pan,wheel_zoom,box_zoom,reset,hover\",\n",
    "                     x_axis_type=None, y_axis_type=None, min_border=1)\n",
    "\n",
    "plot_lda.scatter(x='x', y='y',source=source,\n",
    "                alpha=0.99, size=10,\n",
    "                fill_color='fill_color') \n",
    "                #fill_color=factor_cmap('legend', palette=Category20b[20], factors=df_combine.category.unique()),\n",
    "                #legend_group='legend_label')\n",
    "\n",
    "hover = plot_lda.select(dict(type=HoverTool))\n",
    "hover.tooltips = {\"content\": \"Title: @title\"}\n",
    "\n",
    "background_color = 'white'\n",
    "\n",
    "genre = CheckboxGroup(labels=category_tags, active=list(range(0, len(category_tags))), background=background_color, height=250, margin=(50,5,5,5))\n",
    "\n",
    "year = RangeSlider(start=1600, end=2020, value=(1600,2020), step=1, title=\"Year of publication\",  background=background_color, width=280)\n",
    "\n",
    "average_rating =  RangeSlider(start=0, end=5, value=(0,5), step=.1, title=\"Rating\",  background=background_color, width=280)\n",
    "\n",
    "ratings_count = RangeSlider(start=0, end=1000000, value=(1,1000000), step=1, title=\"Amount of ratings\",  background=background_color, width=280)\n",
    "\n",
    "authors =  TextInput(value=\"\", title=\"Author\",  background=background_color, width=280)\n",
    "\n",
    "title  =  TextInput(value=\"\", title=\"Title\",  background=background_color, width=280)\n",
    "\n",
    "\n",
    "def select_books():\n",
    "    \n",
    "    selected =  df_combine.copy()\n",
    "    selected = selected.loc[(selected[\"node_color\"].isin( [ list(category_color.values())[x] for x in genre.active]))]\n",
    "    \n",
    "    selected = selected.loc[ (selected[\"original_publication_year\"] <= year.value[1]) & (selected[\"original_publication_year\"] >=year.value[0]) &\n",
    "                 (selected[\"average_rating\"] <= average_rating.value[1]) & (selected[\"average_rating\"] >= average_rating.value[0] ) &\n",
    "                 (selected[\"ratings_count\"] <= ratings_count.value[1]) & (selected[\"ratings_count\"] >= ratings_count.value[0] ) ]\n",
    "     \n",
    "    selected = selected.loc[selected[\"authors\"].str.contains(authors.value) == True ] \n",
    "    selected = selected.loc[selected[\"title\"].str.contains(title.value) == True] \n",
    "\n",
    "    return selected\n",
    "\n",
    "def update():\n",
    "    df = select_books()\n",
    "    source.data = dict(\n",
    "        x=df['x_tsne'],\n",
    "        y=df['y_tsne'],\n",
    "        title= df['title'],\n",
    "        fill_color=df['node_color']\n",
    "    )\n",
    "\n",
    "\n",
    "\n",
    "    \n",
    "controls = [authors, title, year, average_rating, ratings_count]    \n",
    "for control in controls:\n",
    "    control.on_change('value', lambda attr, old, new: update())\n",
    "genre.on_change('active', lambda attr, old, new: update())\n",
    "controls = [genre] + controls\n",
    "\n",
    "inputs = column(*controls, width=300, height=200,  background=background_color, sizing_mode=\"fixed\")\n",
    "\n",
    "plot_lda.sizing_mode = \"stretch_width\"\n",
    "l = layout([[inputs, plot_lda]]  , sizing_mode=\"stretch_both\") \n",
    "\n",
    "\n",
    "update()  # initial load of the data\n",
    "\n",
    "\n",
    "def modify_doc(doc):\n",
    "    doc.add_root(l)\n",
    "\n",
    "\n",
    "handler = FunctionHandler(modify_doc)\n",
    "app = Application(handler)\n",
    "\n",
    "show(app)"
   ]
  },
  {
   "cell_type": "code",
   "execution_count": null,
   "metadata": {
    "extensions": {
     "jupyter_dashboards": {
      "version": 1,
      "views": {
       "default_view": {
        "col": 8,
        "height": 5,
        "hidden": false,
        "row": 4,
        "width": 2
       }
      }
     }
    },
    "scrolled": true
   },
   "outputs": [],
   "source": [
    "from IPython.display import Image\n",
    "Image(filename='legend.png') "
   ]
  },
  {
   "cell_type": "code",
   "execution_count": null,
   "metadata": {
    "extensions": {
     "jupyter_dashboards": {
      "version": 1,
      "views": {
       "default_view": {
        "col": 0,
        "height": 17,
        "hidden": false,
        "row": 2,
        "width": 1
       }
      }
     }
    }
   },
   "outputs": [],
   "source": [
    "display(HTML(\"<div></div>\"))"
   ]
  },
  {
   "cell_type": "code",
   "execution_count": null,
   "metadata": {
    "extensions": {
     "jupyter_dashboards": {
      "version": 1,
      "views": {
       "default_view": {
        "col": 7,
        "height": 23,
        "hidden": false,
        "row": 21,
        "width": 4
       }
      }
     }
    }
   },
   "outputs": [],
   "source": [
    "from ipywidgets import interact, fixed, FloatSlider, interact_manual, VBox, HBox, interactive\n",
    "import ipywidgets as widgets\n",
    "from IPython.display import display, clear_output, Image\n",
    "import data_preprocessing as proc\n",
    "import visualisations as vis\n",
    "from igraph import * \n",
    "import warnings\n",
    "warnings.filterwarnings('ignore')\n",
    "\n",
    "\n",
    "tag_limit = 100\n",
    "how_many = 10\n",
    "%store -r ids\n",
    "%store -r matrix_authors\n",
    "%store -r matrix_years\n",
    "%store -r matrix_pages\n",
    "%store -r matrix_rates\n",
    "%store -r matrix_popularity\n",
    "%store -r authors\n",
    "%store -r titles\n",
    "\n",
    "text = widgets.Text( description='Books list:')\n",
    "display(text)\n",
    "\n",
    "\n",
    "select = widgets.Dropdown(\n",
    "    options=['None', 'List_1', 'List_2','List_3'],\n",
    "    value='None',\n",
    "    description='Selected list:',\n",
    ")\n",
    "display(select)\n",
    "\n",
    "auth = FloatSlider(min=0, max=10, value=1, description=\"Author: \")\n",
    "year = FloatSlider(min=0, max=10, value=1, description=\"Publication year: \")\n",
    "pages = FloatSlider(min=0, max=10, value=0.4, description=\"Number of pages: \")\n",
    "rates = FloatSlider(min=0, max=10, value=2, description=\"Author: \")\n",
    "popularity = FloatSlider(min=0, max=10, value=0, description=\"Popularity: \")\n",
    "shelves = FloatSlider(min=0, max=10, value=4, description=\"Subject: \")\n",
    "\n",
    "\n",
    "#display(auth, year, pages, rates, popularity, shelves)\n",
    "\n",
    "items = HBox([auth, year, pages, rates, popularity, shelves])\n",
    "\n",
    "tlist3 = ['Rose Madder','The Eyes of the Dragon', 'Eleven Minutes', 'Twelfth Night',\n",
    "'The Old Man and the Sea','Misery','A Briefer History of Time','The Universe in a Nutshell',\n",
    " \"It's Not about the Bike: My Journey Back to Life\",\n",
    " \"The Universe in a Single Atom: The Convergence of Science and Spirituality\",\n",
    " \"In the Name of Jesus: Reflections on Christian Leadership\",\"The Innocents Abroad\",\n",
    " \"To Kill a Mockingbird\",\n",
    " \"Harry Potter Schoolbooks Box Set: Two Classic Books from the Library of Hogwarts School of Witchcraft and Wizardry\",\n",
    " \"Trump: The Art of the Deal\", \"Dracula\",\n",
    " \"Preface to the Presidency: Selected Speeches of Bill Clinton 1974-1992\",\n",
    " \"Lysis/Phaedrus/Symposium: Plato on Homosexuality\", \"Poems New and Collected\"]\n",
    "\n",
    "tlist1 = ['Rose Madder','The Eyes of the Dragon','The Old Man and the Sea','Misery',\"To Kill a Mockingbird\",\n",
    "              \"Trump: The Art of the Deal\", \"Dracula\",\"Preface to the Presidency: Selected Speeches of Bill Clinton 1974-1992\",]\n",
    "\n",
    "tlist2 = ['A Briefer History of Time','The Universe in a Nutshell', \n",
    "               \"In the Name of Jesus: Reflections on Christian Leadership\",\n",
    "              \"Poems New and Collected\", 'Twelfth Night',\n",
    "              \"Harry Potter Schoolbooks Box Set: Two Classic Books from the Library of Hogwarts School of Witchcraft and Wizardry\",\n",
    "              \"It's Not about the Bike: My Journey Back to Life\", \n",
    "              \"The Universe in a Single Atom: The Convergence of Science and Spirituality\", \"Misery\"]\n",
    "\n",
    "scal = {\"auth\":1, \"years\":1, \"pages\":1, \"rates\":1, \"popularity\":1, \"shelves\":1}\n",
    "\n",
    "@interact_manual(auth=auth, year=year, pages=pages, rates=rates, popularity=popularity, shelves=shelves)\n",
    "def update_graph(auth, year, pages, rates, popularity, shelves):\n",
    "    scal = {\"auth\":auth, \"years\":year, \"pages\":pages, \"rates\":rates, \"popularity\":popularity, \"shelves\":shelves}\n",
    "   \n",
    "    if select.value == \"None\" : \n",
    "        if \",\" not in (text.value): \n",
    "            return \"Give me at least two books\"\n",
    "\n",
    "        tlist = (text.value).split(\",\")\n",
    "    else : \n",
    "        if select.value == \"List_1\" :\n",
    "            tlist=tlist1\n",
    "        if select.value == \"List_2\" : \n",
    "            tlist=tlist2\n",
    "        if select.value == \"List_3\" : \n",
    "            tlist=tlist3\n",
    "    g, visual_style = vis.visualuse_similarity(\"circular\", how_many, tag_limit, ids, scal, titles, authors,\n",
    "                         matrix_authors, matrix_years, matrix_pages,\n",
    "                         matrix_rates, matrix_popularity, title_list=tlist)\n",
    "    p = plot(g, **visual_style)\n",
    "    p.save('graph.png')\n",
    "    return Image(filename='graph.png')  \n",
    "    \n",
    "\n",
    "\n"
   ]
  },
  {
   "cell_type": "code",
   "execution_count": null,
   "metadata": {
    "extensions": {
     "jupyter_dashboards": {
      "version": 1,
      "views": {
       "default_view": {
        "col": 11,
        "height": 33,
        "hidden": false,
        "row": 2,
        "width": 1
       }
      }
     }
    }
   },
   "outputs": [],
   "source": [
    "display(HTML(\"<div></div>\"))"
   ]
  },
  {
   "cell_type": "code",
   "execution_count": null,
   "metadata": {
    "extensions": {
     "jupyter_dashboards": {
      "version": 1,
      "views": {
       "default_view": {
        "col": 8,
        "height": 2,
        "hidden": false,
        "row": 2,
        "width": 3
       }
      }
     }
    }
   },
   "outputs": [],
   "source": [
    "display(HTML(\"<div></div>\"))"
   ]
  },
  {
   "cell_type": "code",
   "execution_count": null,
   "metadata": {
    "extensions": {
     "jupyter_dashboards": {
      "version": 1,
      "views": {
       "default_view": {
        "col": 7,
        "height": 2,
        "hidden": false,
        "row": 19,
        "width": 4
       }
      }
     }
    }
   },
   "outputs": [],
   "source": [
    "display(HTML(\"<div>Compare your books!</div>\"))"
   ]
  },
  {
   "cell_type": "code",
   "execution_count": null,
   "metadata": {
    "extensions": {
     "jupyter_dashboards": {
      "version": 1,
      "views": {
       "default_view": {
        "hidden": true
       }
      }
     }
    }
   },
   "outputs": [],
   "source": []
  },
  {
   "cell_type": "code",
   "execution_count": null,
   "metadata": {
    "extensions": {
     "jupyter_dashboards": {
      "version": 1,
      "views": {
       "default_view": {
        "hidden": true
       }
      }
     }
    }
   },
   "outputs": [],
   "source": []
  },
  {
   "cell_type": "code",
   "execution_count": null,
   "metadata": {
    "extensions": {
     "jupyter_dashboards": {
      "version": 1,
      "views": {
       "default_view": {
        "hidden": true
       }
      }
     }
    }
   },
   "outputs": [],
   "source": []
  },
  {
   "cell_type": "code",
   "execution_count": null,
   "metadata": {},
   "outputs": [],
   "source": []
  },
  {
   "cell_type": "code",
   "execution_count": null,
   "metadata": {},
   "outputs": [],
   "source": []
  },
  {
   "cell_type": "code",
   "execution_count": null,
   "metadata": {},
   "outputs": [],
   "source": []
  }
 ],
 "metadata": {
  "extensions": {
   "jupyter_dashboards": {
    "activeView": "default_view",
    "version": 1,
    "views": {
     "default_view": {
      "cellMargin": 10,
      "defaultCellHeight": 40,
      "maxColumns": 12,
      "name": "active_view",
      "type": "grid"
     }
    }
   }
  },
  "kernelspec": {
   "display_name": "Python 3",
   "language": "python",
   "name": "python3"
  },
  "language_info": {
   "codemirror_mode": {
    "name": "ipython",
    "version": 3
   },
   "file_extension": ".py",
   "mimetype": "text/x-python",
   "name": "python",
   "nbconvert_exporter": "python",
   "pygments_lexer": "ipython3",
   "version": "3.7.7"
  }
 },
 "nbformat": 4,
 "nbformat_minor": 4
}
